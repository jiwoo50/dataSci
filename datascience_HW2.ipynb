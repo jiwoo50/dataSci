{
  "nbformat": 4,
  "nbformat_minor": 0,
  "metadata": {
    "colab": {
      "provenance": [],
      "authorship_tag": "ABX9TyPhorVdVMNzxME+8LQZaMgC",
      "include_colab_link": true
    },
    "kernelspec": {
      "name": "python3",
      "display_name": "Python 3"
    },
    "language_info": {
      "name": "python"
    }
  },
  "cells": [
    {
      "cell_type": "markdown",
      "metadata": {
        "id": "view-in-github",
        "colab_type": "text"
      },
      "source": [
        "<a href=\"https://colab.research.google.com/github/jiwoo50/dataSci/blob/main/datascience_HW2.ipynb\" target=\"_parent\"><img src=\"https://colab.research.google.com/assets/colab-badge.svg\" alt=\"Open In Colab\"/></a>"
      ]
    },
    {
      "cell_type": "markdown",
      "source": [
        "**데이터 과학 HW2 김지우**"
      ],
      "metadata": {
        "id": "-Zy_Eqarjq4E"
      }
    },
    {
      "cell_type": "code",
      "execution_count": 1,
      "metadata": {
        "colab": {
          "base_uri": "https://localhost:8080/"
        },
        "id": "_gatQO5UMjay",
        "outputId": "c80a9018-af00-4bc3-8213-5c6d8364fa9b"
      },
      "outputs": [
        {
          "output_type": "stream",
          "name": "stdout",
          "text": [
            "Mounted at /content/drive\n"
          ]
        }
      ],
      "source": [
        "from google.colab import drive\n",
        "drive.mount('/content/drive')"
      ]
    },
    {
      "cell_type": "code",
      "source": [
        "%cd \"/content/drive/MyDrive/dataSci\"\n",
        "!dir"
      ],
      "metadata": {
        "colab": {
          "base_uri": "https://localhost:8080/"
        },
        "id": "IRKeEu9dMsjP",
        "outputId": "5a7ac3a2-b8bb-488d-d8b5-181644967d78"
      },
      "execution_count": 4,
      "outputs": [
        {
          "output_type": "stream",
          "name": "stdout",
          "text": [
            "/content/drive/MyDrive/dataSci\n",
            "cat.jpg  datascience_HW1.ipynb\n"
          ]
        }
      ]
    },
    {
      "cell_type": "code",
      "source": [
        "import torch"
      ],
      "metadata": {
        "id": "CF9pILcoM9k6"
      },
      "execution_count": 5,
      "outputs": []
    },
    {
      "cell_type": "markdown",
      "source": [
        "# 1. Take several pictures of red, blue, and green items with your phone or other digital camera (or download some from the internet, if a camera isn’t available). "
      ],
      "metadata": {
        "id": "c00ayWBnR7zn"
      }
    },
    {
      "cell_type": "markdown",
      "source": [
        "**a. Load each image, and convert it to a tensor**"
      ],
      "metadata": {
        "id": "v3DGPykNQv4h"
      }
    },
    {
      "cell_type": "code",
      "source": [
        "import imageio\n",
        "\n",
        "img_arr = imageio.imread('./cat.jpg')\n",
        "img_arr.shape"
      ],
      "metadata": {
        "colab": {
          "base_uri": "https://localhost:8080/"
        },
        "id": "Ik2fsogUM_sk",
        "outputId": "069f8709-b0ad-47a1-b4e7-b774b25ac936"
      },
      "execution_count": 7,
      "outputs": [
        {
          "output_type": "stream",
          "name": "stderr",
          "text": [
            "<ipython-input-7-9e761c11c93a>:3: DeprecationWarning: Starting with ImageIO v3 the behavior of this function will switch to that of iio.v3.imread. To keep the current behavior (and make this warning disappear) use `import imageio.v2 as imageio` or call `imageio.v2.imread` directly.\n",
            "  img_arr = imageio.imread('./cat.jpg')\n"
          ]
        },
        {
          "output_type": "execute_result",
          "data": {
            "text/plain": [
              "(463, 703, 3)"
            ]
          },
          "metadata": {},
          "execution_count": 7
        }
      ]
    },
    {
      "cell_type": "code",
      "source": [
        "img = torch.from_numpy(img_arr)\n",
        "img.shape"
      ],
      "metadata": {
        "colab": {
          "base_uri": "https://localhost:8080/"
        },
        "id": "fnXKcczONuSf",
        "outputId": "6d8b63e0-9866-413d-aa7a-c4070ef118c1"
      },
      "execution_count": 37,
      "outputs": [
        {
          "output_type": "execute_result",
          "data": {
            "text/plain": [
              "torch.Size([463, 703, 3])"
            ]
          },
          "metadata": {},
          "execution_count": 37
        }
      ]
    },
    {
      "cell_type": "markdown",
      "source": [
        "**b. For each image tensor, use the .mean() method to get a sense of how bright the image is**"
      ],
      "metadata": {
        "id": "-BIRDEgkQ33v"
      }
    },
    {
      "cell_type": "code",
      "source": [
        "torch.mean(img,dtype=torch.float32).shape"
      ],
      "metadata": {
        "colab": {
          "base_uri": "https://localhost:8080/"
        },
        "id": "s1xgIE_kN5Kd",
        "outputId": "6f9c17b9-46d6-420a-a6f0-d1fe661eebbb"
      },
      "execution_count": 42,
      "outputs": [
        {
          "output_type": "execute_result",
          "data": {
            "text/plain": [
              "torch.Size([])"
            ]
          },
          "metadata": {},
          "execution_count": 42
        }
      ]
    },
    {
      "cell_type": "code",
      "source": [
        "torch.mean(img,dtype=torch.float32)"
      ],
      "metadata": {
        "colab": {
          "base_uri": "https://localhost:8080/"
        },
        "id": "HO9A2zLJQl2j",
        "outputId": "af7fdd01-edcd-447e-d186-2efbd843ebec"
      },
      "execution_count": 43,
      "outputs": [
        {
          "output_type": "execute_result",
          "data": {
            "text/plain": [
              "tensor(101.1128)"
            ]
          },
          "metadata": {},
          "execution_count": 43
        }
      ]
    },
    {
      "cell_type": "markdown",
      "source": [
        "**c. Take the mean of each channel of your images. Can you identify the red, green, and blue items from only the channel averages?**"
      ],
      "metadata": {
        "id": "N-pKARQMQ9Tf"
      }
    },
    {
      "cell_type": "markdown",
      "source": [
        "\n",
        "red channel"
      ],
      "metadata": {
        "id": "xe-xggF6Rj94"
      }
    },
    {
      "cell_type": "code",
      "source": [
        "torch.mean(img[:,:,0],dtype=torch.float32)"
      ],
      "metadata": {
        "colab": {
          "base_uri": "https://localhost:8080/"
        },
        "id": "jAAcNK3HRD6w",
        "outputId": "cdceacf5-63c5-4a18-9712-0df51402c6eb"
      },
      "execution_count": 41,
      "outputs": [
        {
          "output_type": "execute_result",
          "data": {
            "text/plain": [
              "tensor(105.4064)"
            ]
          },
          "metadata": {},
          "execution_count": 41
        }
      ]
    },
    {
      "cell_type": "markdown",
      "source": [
        "green channel"
      ],
      "metadata": {
        "id": "EdJOeu9gRp5y"
      }
    },
    {
      "cell_type": "code",
      "source": [
        "torch.mean(img[:,:,1],dtype=torch.float32)"
      ],
      "metadata": {
        "colab": {
          "base_uri": "https://localhost:8080/"
        },
        "id": "S_kFNBjMRsKz",
        "outputId": "85a6ab75-09e4-4576-c9d9-1519004dfc65"
      },
      "execution_count": 44,
      "outputs": [
        {
          "output_type": "execute_result",
          "data": {
            "text/plain": [
              "tensor(129.3312)"
            ]
          },
          "metadata": {},
          "execution_count": 44
        }
      ]
    },
    {
      "cell_type": "markdown",
      "source": [
        "blue channel"
      ],
      "metadata": {
        "id": "FcqWCke4Rsxu"
      }
    },
    {
      "cell_type": "code",
      "source": [
        "torch.mean(img[:,:,2],dtype=torch.float32)"
      ],
      "metadata": {
        "colab": {
          "base_uri": "https://localhost:8080/"
        },
        "id": "jKaEepiRRxiE",
        "outputId": "4421fd14-e754-4a30-e798-37c36e1d2ec3"
      },
      "execution_count": 45,
      "outputs": [
        {
          "output_type": "execute_result",
          "data": {
            "text/plain": [
              "tensor(68.6008)"
            ]
          },
          "metadata": {},
          "execution_count": 45
        }
      ]
    },
    {
      "cell_type": "markdown",
      "source": [
        "# 1. Redefine the model to be w2 * t_u ** 2 + w1 * t_u + b. "
      ],
      "metadata": {
        "id": "VfZddr6tSMPK"
      }
    },
    {
      "cell_type": "code",
      "source": [
        "%matplotlib inline\n",
        "import numpy as np\n",
        "import torch\n",
        "torch.set_printoptions(edgeitems=2, linewidth=75)"
      ],
      "metadata": {
        "id": "VXhaDge-SLc5"
      },
      "execution_count": 46,
      "outputs": []
    },
    {
      "cell_type": "code",
      "source": [
        "t_c = [0.5,  14.0, 15.0, 28.0, 11.0,  8.0,  3.0, -4.0,  6.0, 13.0, 21.0]\n",
        "t_u = [35.7, 55.9, 58.2, 81.9, 56.3, 48.9, 33.9, 21.8, 48.4, 60.4, 68.4]\n",
        "t_c = torch.tensor(t_c)\n",
        "t_u = torch.tensor(t_u)"
      ],
      "metadata": {
        "id": "ja1ngA7fSpyL"
      },
      "execution_count": 47,
      "outputs": []
    },
    {
      "cell_type": "code",
      "source": [
        "def model(t_u, w1,w2, b):\n",
        "    return (w2 * t_u)**2 + w1 * t_u + b "
      ],
      "metadata": {
        "id": "Cy5VaRgdStrC"
      },
      "execution_count": 65,
      "outputs": []
    },
    {
      "cell_type": "code",
      "source": [
        "def loss_fn(t_p, t_c):\n",
        "    squared_diffs = (t_p - t_c)**2\n",
        "    return squared_diffs.mean()"
      ],
      "metadata": {
        "id": "VJtzscOfSvTI"
      },
      "execution_count": 66,
      "outputs": []
    },
    {
      "cell_type": "code",
      "source": [
        "w1 = torch.ones(())\n",
        "w2 = torch.ones(())\n",
        "b = torch.zeros(())\n",
        "\n",
        "t_p = model(t_u, w1,w2, b)\n",
        "t_p"
      ],
      "metadata": {
        "colab": {
          "base_uri": "https://localhost:8080/"
        },
        "id": "emXAXykFSxap",
        "outputId": "5d34daea-3d8e-4067-dafd-3e60f78bf3be"
      },
      "execution_count": 70,
      "outputs": [
        {
          "output_type": "execute_result",
          "data": {
            "text/plain": [
              "tensor([1310.1901, 3180.7100, 3445.4399, 6789.5103, 3225.9900, 2440.1101,\n",
              "        1183.1101,  497.0399, 2390.9600, 3708.5601, 4746.9600])"
            ]
          },
          "metadata": {},
          "execution_count": 70
        }
      ]
    },
    {
      "cell_type": "code",
      "source": [
        "loss = loss_fn(t_p, t_c)\n",
        "loss"
      ],
      "metadata": {
        "colab": {
          "base_uri": "https://localhost:8080/"
        },
        "id": "dCywkV5FSzIm",
        "outputId": "18f1cce2-5f36-4646-b8a2-6739062264fa"
      },
      "execution_count": 71,
      "outputs": [
        {
          "output_type": "execute_result",
          "data": {
            "text/plain": [
              "tensor(11709471.)"
            ]
          },
          "metadata": {},
          "execution_count": 71
        }
      ]
    },
    {
      "cell_type": "code",
      "source": [
        "delta = 0.1\n",
        "\n",
        "loss_rate_of_change_w = \\\n",
        "    (loss_fn(model(t_u, w1 + delta,w2 + delta, b), t_c) - \n",
        "     loss_fn(model(t_u, w1 - delta,w2 - delta, b), t_c)) / (2.0 * delta)\n",
        "\n",
        "#loss_rate_of_change_w = loss_rate_of_change_w1+loss_rate_of_change_w2"
      ],
      "metadata": {
        "id": "ZCAlRmbHS6Ry"
      },
      "execution_count": 105,
      "outputs": []
    },
    {
      "cell_type": "code",
      "source": [
        "learning_rate = 1e-2\n",
        "\n",
        "w1 = w1 - learning_rate * loss_rate_of_change_w\n",
        "w2 = w2 - learning_rate * loss_rate_of_change_w"
      ],
      "metadata": {
        "id": "QmRwZUowS7r7"
      },
      "execution_count": 75,
      "outputs": []
    },
    {
      "cell_type": "code",
      "source": [
        "loss_rate_of_change_b = \\\n",
        "    (loss_fn(model(t_u, w1, w2, b + delta), t_c) - \n",
        "     loss_fn(model(t_u, w1, w2, b - delta), t_c)) / (2.0 * delta)\n",
        "\n",
        "b = b - learning_rate * loss_rate_of_change_b"
      ],
      "metadata": {
        "id": "-nOXQw0ES_P4"
      },
      "execution_count": 76,
      "outputs": []
    },
    {
      "cell_type": "code",
      "source": [
        "def dloss_fn(t_p, t_c):\n",
        "    dsq_diffs = 2 * (t_p - t_c) / t_p.size(0)  # <1>\n",
        "    return dsq_diffs"
      ],
      "metadata": {
        "id": "6d2WJlp9TBXD"
      },
      "execution_count": 77,
      "outputs": []
    },
    {
      "cell_type": "code",
      "source": [
        "def dmodel_dw(t_u, w1,w2, b):\n",
        "    return t_u"
      ],
      "metadata": {
        "id": "yySXbeQ-TCan"
      },
      "execution_count": 87,
      "outputs": []
    },
    {
      "cell_type": "code",
      "source": [
        "def dmodel_db(t_u, w1,w2, b):\n",
        "    return 1.0"
      ],
      "metadata": {
        "id": "MIid-YyFTDUU"
      },
      "execution_count": 88,
      "outputs": []
    },
    {
      "cell_type": "code",
      "source": [
        "def grad_fn(t_u, t_c, t_p, w1,w2, b):\n",
        "    dloss_dtp = dloss_fn(t_p, t_c)\n",
        "    dloss_dw = dloss_dtp * dmodel_dw(t_u,  w1,w2, b)\n",
        "    dloss_db = dloss_dtp * dmodel_db(t_u,  w1,w2, b)\n",
        "    return torch.stack([dloss_dw.sum(), dloss_dw.sum(),dloss_db.sum()])  # <1>"
      ],
      "metadata": {
        "id": "KzA57EVfTEe4"
      },
      "execution_count": 95,
      "outputs": []
    },
    {
      "cell_type": "code",
      "source": [
        "def training_loop(n_epochs, learning_rate, params, t_u, t_c):\n",
        "    for epoch in range(1, n_epochs + 1):\n",
        "        w1,w2, b = params\n",
        "\n",
        "        t_p = model(t_u, w1,w2, b)  # <1>\n",
        "        loss = loss_fn(t_p, t_c)\n",
        "        grad = grad_fn(t_u, t_c, t_p, w1,w2, b)  # <2>\n",
        "\n",
        "        params = params - learning_rate * grad\n",
        "\n",
        "        print('Epoch %d, Loss %f' % (epoch, float(loss))) # <3>\n",
        "            \n",
        "    return params"
      ],
      "metadata": {
        "id": "20C0hUC-THGr"
      },
      "execution_count": 96,
      "outputs": []
    },
    {
      "cell_type": "code",
      "source": [
        "def training_loop(n_epochs, learning_rate, params, t_u, t_c,\n",
        "                  print_params=True):\n",
        "    for epoch in range(1, n_epochs + 1):\n",
        "        w1,w2, b = params\n",
        "\n",
        "        t_p = model(t_u, w1,w2, b)  # <1>\n",
        "        loss = loss_fn(t_p, t_c)\n",
        "        grad = grad_fn(t_u, t_c, t_p, w1,w2, b)  # <2>\n",
        "\n",
        "        params = params - learning_rate * grad\n",
        "\n",
        "        if epoch in {1, 2, 3, 10, 11, 99, 100, 4000, 5000}:  # <3>\n",
        "            print('Epoch %d, Loss %f' % (epoch, float(loss)))\n",
        "            if print_params:\n",
        "                print('    Params:', params)\n",
        "                print('    Grad:  ', grad)\n",
        "        if epoch in {4, 12, 101}:\n",
        "            print('...')\n",
        "\n",
        "        if not torch.isfinite(loss).all():\n",
        "            break  # <3>\n",
        "            \n",
        "    return params"
      ],
      "metadata": {
        "id": "rqXBNgSTTJQA"
      },
      "execution_count": 97,
      "outputs": []
    },
    {
      "cell_type": "code",
      "source": [
        "training_loop(\n",
        "    n_epochs = 100, \n",
        "    learning_rate = 1e-2, \n",
        "    params = torch.tensor([1.0,1.0, 0.0]), \n",
        "    t_u = t_u, \n",
        "    t_c = t_c)"
      ],
      "metadata": {
        "colab": {
          "base_uri": "https://localhost:8080/"
        },
        "id": "SN9K1ZLfUzwg",
        "outputId": "530ec817-2b3e-4304-c188-7cec9896fcac"
      },
      "execution_count": 108,
      "outputs": [
        {
          "output_type": "stream",
          "name": "stdout",
          "text": [
            "Epoch 1, Loss 11709471.000000\n",
            "    Params: tensor([-3617.1025, -3617.1025,   -59.6420])\n",
            "    Grad:   tensor([361810.2500, 361810.2500,   5964.1958])\n",
            "Epoch 2, Loss 1958411549322801840128.000000\n",
            "    Params: tensor([-4.6746e+10, -4.6746e+10, -7.6951e+08])\n",
            "    Grad:   tensor([4.6746e+12, 4.6746e+12, 7.6951e+10])\n",
            "Epoch 3, Loss inf\n",
            "    Params: tensor([-7.8075e+24, -7.8075e+24, -1.2852e+23])\n",
            "    Grad:   tensor([7.8075e+26, 7.8075e+26, 1.2852e+25])\n"
          ]
        },
        {
          "output_type": "execute_result",
          "data": {
            "text/plain": [
              "tensor([-7.8075e+24, -7.8075e+24, -1.2852e+23])"
            ]
          },
          "metadata": {},
          "execution_count": 108
        }
      ]
    },
    {
      "cell_type": "code",
      "source": [
        "training_loop(\n",
        "    n_epochs = 100, \n",
        "    learning_rate = 1e-4, \n",
        "    params = torch.tensor([1.0,1.0, 0.0]), \n",
        "    t_u = t_u, \n",
        "    t_c = t_c)"
      ],
      "metadata": {
        "colab": {
          "base_uri": "https://localhost:8080/"
        },
        "id": "B-xVcGsMVv3R",
        "outputId": "34a57fc3-8ca9-4c2b-8395-dbe0825ddc30"
      },
      "execution_count": 102,
      "outputs": [
        {
          "output_type": "stream",
          "name": "stdout",
          "text": [
            "Epoch 1, Loss 11709471.000000\n",
            "    Params: tensor([-35.1810, -35.1810,  -0.5964])\n",
            "    Grad:   tensor([361810.2500, 361810.2500,   5964.1958])\n",
            "Epoch 2, Loss 17510957056000.000000\n",
            "    Params: tensor([-44236.6523, -44236.6523,   -728.1976])\n",
            "    Grad:   tensor([4.4201e+08, 4.4201e+08, 7.2760e+06])\n",
            "Epoch 3, Loss 43812013299240165403787264.000000\n",
            "    Params: tensor([-6.9918e+10, -6.9918e+10, -1.1510e+09])\n",
            "    Grad:   tensor([6.9918e+14, 6.9918e+14, 1.1510e+13])\n",
            "...\n"
          ]
        },
        {
          "output_type": "execute_result",
          "data": {
            "text/plain": [
              "tensor([-1.7466e+23, -1.7466e+23, -2.8752e+21])"
            ]
          },
          "metadata": {},
          "execution_count": 102
        }
      ]
    },
    {
      "cell_type": "markdown",
      "source": [
        "**a. What parts of the training loop, and so on, need to change to accommodate this redefinition?**"
      ],
      "metadata": {
        "id": "--vsBmziY7xU"
      }
    },
    {
      "cell_type": "markdown",
      "source": [
        "a. 교육 루프에서 모델과 loss함수, 파라미터에 가중치를 추가해야한다\n"
      ],
      "metadata": {
        "id": "RrtaS5qJYJTT"
      }
    },
    {
      "cell_type": "markdown",
      "source": [
        "**b. What parts are agnostic to swapping out the model?**"
      ],
      "metadata": {
        "id": "OygHWfwWZBVV"
      }
    },
    {
      "cell_type": "markdown",
      "source": [
        "b. 모델을 교체할 때 모델의 입력부분에 영향을 받는다."
      ],
      "metadata": {
        "id": "2WVokF9KZF_F"
      }
    },
    {
      "cell_type": "markdown",
      "source": [
        "**c. Is the resulting loss higher or lower after training?**\n"
      ],
      "metadata": {
        "id": "uP6Rn0MhZJsm"
      }
    },
    {
      "cell_type": "markdown",
      "source": [
        "\n",
        "c. 손실은 더 높아졌다."
      ],
      "metadata": {
        "id": "a4R5pO4HZP8r"
      }
    },
    {
      "cell_type": "markdown",
      "source": [
        "\n",
        "\n",
        "\n",
        "\n",
        "\n",
        "\n",
        "**d. Is the actual result better or worse?**"
      ],
      "metadata": {
        "id": "dhb8M55mX2xI"
      }
    },
    {
      "cell_type": "markdown",
      "source": [
        "\n",
        "d. 실제 결과도 더 안좋아졌다."
      ],
      "metadata": {
        "id": "ZkR36q-iZCSK"
      }
    },
    {
      "cell_type": "markdown",
      "source": [
        "# The third-hardest problem in physics is finding a proper wine to celebrate discoveries. Load the wine data from chapter 4, and create a new model with the appropriate number of input parameters. "
      ],
      "metadata": {
        "id": "E2t34dymZRox"
      }
    },
    {
      "cell_type": "markdown",
      "source": [
        "a How long does it take to train compared to the temperature data we have been using? \n",
        "\n",
        "b Can you explain what factors contribute to the training times? \n",
        "\n",
        "c Can you get the loss to decrease while training on this dataset? \n",
        "\n",
        "d How would you go about graphing this dataset?"
      ],
      "metadata": {
        "id": "YVP5FgxhjPSC"
      }
    },
    {
      "cell_type": "code",
      "source": [
        "%matplotlib inline\n",
        "import numpy as np\n",
        "import torch\n",
        "import torch.optim as optim\n",
        "import torch.nn as nn\n",
        "torch.set_printoptions(edgeitems=2, precision=2, linewidth=75)"
      ],
      "metadata": {
        "id": "HW46YrioY2op"
      },
      "execution_count": 117,
      "outputs": []
    },
    {
      "cell_type": "code",
      "source": [
        "import csv\n",
        "wine_path = \"./winequality-white.csv\"\n",
        "wineq_numpy = np.loadtxt(wine_path, dtype=np.float32, delimiter=\";\",\n",
        "                         skiprows=1)\n",
        "wineq_numpy"
      ],
      "metadata": {
        "colab": {
          "base_uri": "https://localhost:8080/"
        },
        "id": "u7eo7ZbXaVdB",
        "outputId": "26278877-e0bd-43f3-8a2e-b9e5e29cc9df"
      },
      "execution_count": 110,
      "outputs": [
        {
          "output_type": "execute_result",
          "data": {
            "text/plain": [
              "array([[ 7.  ,  0.27,  0.36, ...,  0.45,  8.8 ,  6.  ],\n",
              "       [ 6.3 ,  0.3 ,  0.34, ...,  0.49,  9.5 ,  6.  ],\n",
              "       [ 8.1 ,  0.28,  0.4 , ...,  0.44, 10.1 ,  6.  ],\n",
              "       ...,\n",
              "       [ 6.5 ,  0.24,  0.19, ...,  0.46,  9.4 ,  6.  ],\n",
              "       [ 5.5 ,  0.29,  0.3 , ...,  0.38, 12.8 ,  7.  ],\n",
              "       [ 6.  ,  0.21,  0.38, ...,  0.32, 11.8 ,  6.  ]], dtype=float32)"
            ]
          },
          "metadata": {},
          "execution_count": 110
        }
      ]
    },
    {
      "cell_type": "code",
      "source": [
        "col_list = next(csv.reader(open(wine_path), delimiter=';'))\n",
        "\n",
        "wineq_numpy.shape, col_list"
      ],
      "metadata": {
        "colab": {
          "base_uri": "https://localhost:8080/"
        },
        "id": "tBgPRabraaUQ",
        "outputId": "e7e5c142-2c42-42bb-f57c-b6e1c7cc80bf"
      },
      "execution_count": 111,
      "outputs": [
        {
          "output_type": "execute_result",
          "data": {
            "text/plain": [
              "((4898, 12),\n",
              " ['fixed acidity',\n",
              "  'volatile acidity',\n",
              "  'citric acid',\n",
              "  'residual sugar',\n",
              "  'chlorides',\n",
              "  'free sulfur dioxide',\n",
              "  'total sulfur dioxide',\n",
              "  'density',\n",
              "  'pH',\n",
              "  'sulphates',\n",
              "  'alcohol',\n",
              "  'quality'])"
            ]
          },
          "metadata": {},
          "execution_count": 111
        }
      ]
    },
    {
      "cell_type": "code",
      "source": [
        "wineq = torch.from_numpy(wineq_numpy)\n",
        "\n",
        "wineq.shape, wineq.dtype"
      ],
      "metadata": {
        "colab": {
          "base_uri": "https://localhost:8080/"
        },
        "id": "M8Nltp5Labv8",
        "outputId": "bbb35fd0-409e-422a-a5d1-33160163398c"
      },
      "execution_count": 112,
      "outputs": [
        {
          "output_type": "execute_result",
          "data": {
            "text/plain": [
              "(torch.Size([4898, 12]), torch.float32)"
            ]
          },
          "metadata": {},
          "execution_count": 112
        }
      ]
    },
    {
      "cell_type": "code",
      "source": [
        "data = wineq[:, :-1] # <1>\n",
        "data, data.shape"
      ],
      "metadata": {
        "colab": {
          "base_uri": "https://localhost:8080/"
        },
        "id": "Aa9N8FpVaeHf",
        "outputId": "15bd7ca3-2e09-42c0-da1b-6a0696536987"
      },
      "execution_count": 113,
      "outputs": [
        {
          "output_type": "execute_result",
          "data": {
            "text/plain": [
              "(tensor([[ 7.00,  0.27,  ...,  0.45,  8.80],\n",
              "         [ 6.30,  0.30,  ...,  0.49,  9.50],\n",
              "         ...,\n",
              "         [ 5.50,  0.29,  ...,  0.38, 12.80],\n",
              "         [ 6.00,  0.21,  ...,  0.32, 11.80]]),\n",
              " torch.Size([4898, 11]))"
            ]
          },
          "metadata": {},
          "execution_count": 113
        }
      ]
    },
    {
      "cell_type": "code",
      "source": [
        "target = wineq[:, -1] # <2>\n",
        "target, target.shape"
      ],
      "metadata": {
        "colab": {
          "base_uri": "https://localhost:8080/"
        },
        "id": "MRdRROmkafz3",
        "outputId": "6f091c94-cf02-40a3-ac93-7c21d29cdb37"
      },
      "execution_count": 114,
      "outputs": [
        {
          "output_type": "execute_result",
          "data": {
            "text/plain": [
              "(tensor([6., 6.,  ..., 7., 6.]), torch.Size([4898]))"
            ]
          },
          "metadata": {},
          "execution_count": 114
        }
      ]
    },
    {
      "cell_type": "code",
      "source": [
        "from sklearn.model_selection import train_test_split\n",
        "train_x, test_x, train_y, test_y = train_test_split(data, target, test_size = 0.2)"
      ],
      "metadata": {
        "id": "lY7CaBoWcUuI"
      },
      "execution_count": 115,
      "outputs": []
    },
    {
      "cell_type": "code",
      "source": [
        "train_x.shape, test_x.shape, train_y.shape, test_y.shape "
      ],
      "metadata": {
        "colab": {
          "base_uri": "https://localhost:8080/"
        },
        "id": "I2cCrrjRdB_G",
        "outputId": "b61a76f5-4fb7-437b-fc3c-bf29d4edc8bb"
      },
      "execution_count": 116,
      "outputs": [
        {
          "output_type": "execute_result",
          "data": {
            "text/plain": [
              "(torch.Size([3918, 11]),\n",
              " torch.Size([980, 11]),\n",
              " torch.Size([3918]),\n",
              " torch.Size([980]))"
            ]
          },
          "metadata": {},
          "execution_count": 116
        }
      ]
    },
    {
      "cell_type": "code",
      "source": [
        "linear_model = nn.Linear(11, 1) # <1>\n",
        "linear_model(train_x).shape"
      ],
      "metadata": {
        "colab": {
          "base_uri": "https://localhost:8080/"
        },
        "id": "uNIBMZzXdW7S",
        "outputId": "b33ef405-591a-4c51-8534-594b2ef500bc"
      },
      "execution_count": 146,
      "outputs": [
        {
          "output_type": "execute_result",
          "data": {
            "text/plain": [
              "torch.Size([3918, 1])"
            ]
          },
          "metadata": {},
          "execution_count": 146
        }
      ]
    },
    {
      "cell_type": "code",
      "source": [
        "linear_model = nn.Linear(11, 1) # <1>\n",
        "optimizer = optim.SGD(\n",
        "    linear_model.parameters(), # <2>\n",
        "    lr=1e-2)"
      ],
      "metadata": {
        "id": "Ox-S_99peWiP"
      },
      "execution_count": 147,
      "outputs": []
    },
    {
      "cell_type": "code",
      "source": [
        "linear_model.parameters()"
      ],
      "metadata": {
        "colab": {
          "base_uri": "https://localhost:8080/"
        },
        "id": "ty2j4bLreZfR",
        "outputId": "94506a3f-241c-43db-84ca-be1e71d2cbeb"
      },
      "execution_count": 148,
      "outputs": [
        {
          "output_type": "execute_result",
          "data": {
            "text/plain": [
              "<generator object Module.parameters at 0x7fe2d89806d0>"
            ]
          },
          "metadata": {},
          "execution_count": 148
        }
      ]
    },
    {
      "cell_type": "code",
      "source": [
        "list(linear_model.parameters())"
      ],
      "metadata": {
        "colab": {
          "base_uri": "https://localhost:8080/"
        },
        "id": "vjj4oVH1eagu",
        "outputId": "428b5ecf-8e42-46d7-e116-2a4deb3126bc"
      },
      "execution_count": 149,
      "outputs": [
        {
          "output_type": "execute_result",
          "data": {
            "text/plain": [
              "[Parameter containing:\n",
              " tensor([[-0.04,  0.29, -0.28,  0.21,  0.15, -0.25, -0.09,  0.23,  0.04,\n",
              "          -0.24,  0.13]], requires_grad=True),\n",
              " Parameter containing:\n",
              " tensor([0.05], requires_grad=True)]"
            ]
          },
          "metadata": {},
          "execution_count": 149
        }
      ]
    },
    {
      "cell_type": "code",
      "source": [
        "linear_model(train_x)"
      ],
      "metadata": {
        "colab": {
          "base_uri": "https://localhost:8080/"
        },
        "id": "scUx_RXffK1U",
        "outputId": "62e9b220-cfdb-4f56-d5e9-42873f54c842"
      },
      "execution_count": 150,
      "outputs": [
        {
          "output_type": "execute_result",
          "data": {
            "text/plain": [
              "tensor([[-15.29],\n",
              "        [-16.06],\n",
              "        ...,\n",
              "        [-10.99],\n",
              "        [-28.65]], grad_fn=<AddmmBackward0>)"
            ]
          },
          "metadata": {},
          "execution_count": 150
        }
      ]
    },
    {
      "cell_type": "code",
      "source": [
        "def training_loop(n_epochs, optimizer, model, loss_fn, t_u_train, t_u_val,\n",
        "                  t_c_train, t_c_val):\n",
        "    for epoch in range(1, n_epochs + 1):\n",
        "        t_p_train = model(t_u_train) # <1>\n",
        "        loss_train = loss_fn(t_p_train, t_c_train)\n",
        "\n",
        "        t_p_val = model(t_u_val) # <1>\n",
        "        loss_val = loss_fn(t_p_val, t_c_val)\n",
        "        \n",
        "        optimizer.zero_grad()\n",
        "        loss_train.backward() # <2>\n",
        "        optimizer.step()\n",
        "\n",
        "        if epoch == 1 or epoch % 10 == 0:\n",
        "            print(f\"Epoch {epoch}, Training loss {loss_train.item():.4f},\"\n",
        "                  f\" Validation loss {loss_val.item():.4f}\")"
      ],
      "metadata": {
        "id": "Y9g2zj69ecgC"
      },
      "execution_count": 162,
      "outputs": []
    },
    {
      "cell_type": "code",
      "source": [
        "def loss_fn(t_p, t_c):\n",
        "    squared_diffs = (t_p - t_c)**2\n",
        "    return squared_diffs.mean()"
      ],
      "metadata": {
        "id": "np5s2-yxefKZ"
      },
      "execution_count": 152,
      "outputs": []
    },
    {
      "cell_type": "code",
      "source": [
        "linear_model = nn.Linear(11, 1) # <1>\n",
        "optimizer = optim.SGD(linear_model.parameters(), lr=1e-2)\n",
        "\n",
        "training_loop(\n",
        "    n_epochs = 100, \n",
        "    optimizer = optimizer,\n",
        "    model = linear_model,\n",
        "    loss_fn = loss_fn,\n",
        "    t_u_train = train_x,\n",
        "    t_u_val = test_x, \n",
        "    t_c_train = train_y,\n",
        "    t_c_val = test_y)\n",
        "print()\n",
        "print(linear_model.weight)\n",
        "print(linear_model.bias)"
      ],
      "metadata": {
        "colab": {
          "base_uri": "https://localhost:8080/"
        },
        "id": "5GxaOP4Qeh0r",
        "outputId": "accbc3a0-66e3-4ef6-af4f-354f7f009ac8"
      },
      "execution_count": 166,
      "outputs": [
        {
          "output_type": "stream",
          "name": "stdout",
          "text": [
            "Epoch 1, Training loss 13.4783, Validation loss 12.8206\n",
            "Epoch 10, Training loss inf, Validation loss inf\n",
            "Epoch 20, Training loss nan, Validation loss nan\n",
            "Epoch 30, Training loss nan, Validation loss nan\n",
            "Epoch 40, Training loss nan, Validation loss nan\n",
            "Epoch 50, Training loss nan, Validation loss nan\n",
            "Epoch 60, Training loss nan, Validation loss nan\n",
            "Epoch 70, Training loss nan, Validation loss nan\n",
            "Epoch 80, Training loss nan, Validation loss nan\n",
            "Epoch 90, Training loss nan, Validation loss nan\n",
            "Epoch 100, Training loss nan, Validation loss nan\n",
            "\n",
            "Parameter containing:\n",
            "tensor([[nan, nan, nan, nan, nan, nan, nan, nan, nan, nan, nan]],\n",
            "       requires_grad=True)\n",
            "Parameter containing:\n",
            "tensor([nan], requires_grad=True)\n"
          ]
        }
      ]
    },
    {
      "cell_type": "markdown",
      "source": [
        "계속 loss가 발산해서 제대로된 비교를 할 수 없었다."
      ],
      "metadata": {
        "id": "_HK7YcVujTk6"
      }
    }
  ]
}